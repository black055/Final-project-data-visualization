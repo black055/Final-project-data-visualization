{
 "cells": [
  {
   "cell_type": "code",
   "execution_count": 112,
   "metadata": {},
   "outputs": [],
   "source": [
    "import pandas as pd\n",
    "import matplotlib.pyplot as plt\n",
    "import numpy as np"
   ]
  },
  {
   "cell_type": "code",
   "execution_count": 113,
   "metadata": {},
   "outputs": [
    {
     "name": "stdout",
     "output_type": "stream",
     "text": [
      "<class 'pandas.core.frame.DataFrame'>\n",
      "RangeIndex: 24949 entries, 0 to 24948\n",
      "Data columns (total 16 columns):\n",
      " #   Column            Non-Null Count  Dtype  \n",
      "---  ------            --------------  -----  \n",
      " 0   DiaChi            24949 non-null  object \n",
      " 1   TinhTrangBDS      24924 non-null  object \n",
      " 2   DienTich          24917 non-null  object \n",
      " 3   Gia/m2            24916 non-null  object \n",
      " 4   Phongngu          24926 non-null  object \n",
      " 5   TenPhanKhu        7035 non-null   object \n",
      " 6   SoTang            6726 non-null   float64\n",
      " 7   PhongTam          24388 non-null  object \n",
      " 8   Loai              24926 non-null  object \n",
      " 9   GiayTo            18852 non-null  object \n",
      " 10  MaCanHo           3358 non-null   object \n",
      " 11  TinhTrangNoiThat  12790 non-null  object \n",
      " 12  HuongCuaChinh     9370 non-null   object \n",
      " 13  HuongBanCong      8670 non-null   object \n",
      " 14  DacDiem           5601 non-null   object \n",
      " 15  Gia               24949 non-null  object \n",
      "dtypes: float64(1), object(15)\n",
      "memory usage: 3.0+ MB\n"
     ]
    }
   ],
   "source": [
    "pd.options.mode.chained_assignment = None\n",
    "\n",
    "df = pd.read_csv(\"rawdata.csv\", skipinitialspace=True)\n",
    "df.info()"
   ]
  },
  {
   "cell_type": "markdown",
   "metadata": {},
   "source": [
    "# Xử lý dữ liệu"
   ]
  },
  {
   "cell_type": "code",
   "execution_count": 114,
   "metadata": {},
   "outputs": [],
   "source": [
    "#Chỉ lấy diện tích not null và có diện tích trong khoảng 20m2 đến 100m2\n",
    "df = df[df.DienTich.notnull()]\n",
    "df = df.reset_index()\n",
    "for i in range(len(df.DienTich)):\n",
    "    df.DienTich[i] = float(df.DienTich[i].split(' ')[0])\n",
    "df = df[(df.DienTich >= 20) & (df.DienTich <= 100)]\n",
    "df = df.reset_index()"
   ]
  },
  {
   "cell_type": "code",
   "execution_count": 115,
   "metadata": {},
   "outputs": [],
   "source": [
    "#Chỉ lấy các căn hộ có dữ liệu về phòng ngủ và phòng tắm\n",
    "df = df[df.Phongngu.notnull()]\n",
    "df = df[df.PhongTam.notnull()]\n",
    "df = df.reset_index(drop=True)\n",
    "\n",
    "#Xóa các chữ dư thừa (phòng, nhiều hơn, ...) trong dữ liệu\n",
    "for i in range(len(df.Phongngu)):\n",
    "    if \"nhiều hơn\" in df.Phongngu[i]:\n",
    "        df.Phongngu[i]= int(df.Phongngu[i].split(' ')[2])+1\n",
    "    else:\n",
    "        df.Phongngu[i]= df.Phongngu[i].split(' ')[0]\n",
    "for i in range(len(df.PhongTam)):\n",
    "    if \"Nhiều hơn\" in df.PhongTam[i]:\n",
    "        df.PhongTam[i]= int(df.PhongTam[i].split(' ')[2])+1\n",
    "    else:\n",
    "        df.PhongTam[i]= df.PhongTam[i].split(' ')[0]"
   ]
  },
  {
   "cell_type": "code",
   "execution_count": 116,
   "metadata": {},
   "outputs": [],
   "source": [
    "#Loại bỏ những dòng dữ liệu có chứa từ khóa 'GIÁ TỐT' ở cột giá\n",
    "df = df[~df.Gia.str.contains('GIÁ TỐT')]\n",
    "df = df[df.Gia.str.contains('tỷ|triệu')]\n",
    "df = df.reset_index(drop=True)\n",
    "for i in range(len(df.Gia)):\n",
    "    if 'tỷ' in df.Gia[i]:\n",
    "        price = df.Gia[i].split(' ')[0]\n",
    "        price = price.replace(',','.')\n",
    "        df.Gia[i] = round(float(price)*1000000000,1)\n",
    "    elif 'triệu' in df.Gia[i] :\n",
    "        price = df.Gia[i].split(' ')[0]\n",
    "        price = price.replace(',','.')\n",
    "        df.Gia[i] = round(float(price)*1000000,1)\n",
    "\n",
    "#Chỉ lấy các căn hộ có giá từ 50 triệu đến 10 tỷ\n",
    "df = df[(df.Gia >= 50000000) & (df.Gia <= 10000000000)]\n",
    "df = df.reset_index(drop=True)"
   ]
  },
  {
   "cell_type": "code",
   "execution_count": 117,
   "metadata": {},
   "outputs": [],
   "source": [
    "#Tạo thêm cột 'Quận' để dễ dàng trong việc phân tích dữ liệu\n",
    "df[\"Quan\"] = df.DiaChi.copy()\n",
    "for i in range(len(df.DiaChi)):\n",
    "    address = df.DiaChi[i].split(',')\n",
    "    df.Quan[i] = address[len(address)-2]\n",
    "    \n",
    "#Xóa các dòng dữ liệu không có 'Quận'\n",
    "for i in df.Quan:\n",
    "    if 'Quận' not in i and 'Huyện' not in i:\n",
    "        df = df.drop(df[df.Quan == i].index)"
   ]
  },
  {
   "cell_type": "code",
   "execution_count": 118,
   "metadata": {},
   "outputs": [],
   "source": [
    "#Xóa các cột dữ liệu không sử dụng\n",
    "del df[\"Gia/m2\"]\n",
    "del df[\"TenPhanKhu\"]\n",
    "del df[\"MaCanHo\"]"
   ]
  },
  {
   "cell_type": "code",
   "execution_count": 119,
   "metadata": {},
   "outputs": [],
   "source": [
    "del df[\"DiaChi\"]\n",
    "del df[\"level_0\"]\n",
    "del df[\"index\"]"
   ]
  },
  {
   "cell_type": "code",
   "execution_count": 120,
   "metadata": {},
   "outputs": [
    {
     "data": {
      "text/html": [
       "<div>\n",
       "<style scoped>\n",
       "    .dataframe tbody tr th:only-of-type {\n",
       "        vertical-align: middle;\n",
       "    }\n",
       "\n",
       "    .dataframe tbody tr th {\n",
       "        vertical-align: top;\n",
       "    }\n",
       "\n",
       "    .dataframe thead th {\n",
       "        text-align: right;\n",
       "    }\n",
       "</style>\n",
       "<table border=\"1\" class=\"dataframe\">\n",
       "  <thead>\n",
       "    <tr style=\"text-align: right;\">\n",
       "      <th></th>\n",
       "      <th>TinhTrangBDS</th>\n",
       "      <th>DienTich</th>\n",
       "      <th>Phongngu</th>\n",
       "      <th>SoTang</th>\n",
       "      <th>PhongTam</th>\n",
       "      <th>Loai</th>\n",
       "      <th>GiayTo</th>\n",
       "      <th>TinhTrangNoiThat</th>\n",
       "      <th>HuongCuaChinh</th>\n",
       "      <th>HuongBanCong</th>\n",
       "      <th>DacDiem</th>\n",
       "      <th>Gia</th>\n",
       "      <th>Quan</th>\n",
       "    </tr>\n",
       "  </thead>\n",
       "  <tbody>\n",
       "    <tr>\n",
       "      <th>0</th>\n",
       "      <td>Đã bàn giao</td>\n",
       "      <td>62</td>\n",
       "      <td>2</td>\n",
       "      <td>NaN</td>\n",
       "      <td>2</td>\n",
       "      <td>Chung cư</td>\n",
       "      <td>Đã có sổ</td>\n",
       "      <td>NaN</td>\n",
       "      <td>NaN</td>\n",
       "      <td>NaN</td>\n",
       "      <td>NaN</td>\n",
       "      <td>2e+09</td>\n",
       "      <td>Quận 7</td>\n",
       "    </tr>\n",
       "    <tr>\n",
       "      <th>1</th>\n",
       "      <td>Đã bàn giao</td>\n",
       "      <td>95</td>\n",
       "      <td>3</td>\n",
       "      <td>NaN</td>\n",
       "      <td>2</td>\n",
       "      <td>Chung cư</td>\n",
       "      <td>Đang chờ sổ</td>\n",
       "      <td>Nội thất cao cấp</td>\n",
       "      <td>NaN</td>\n",
       "      <td>NaN</td>\n",
       "      <td>Căn góc</td>\n",
       "      <td>5.3e+09</td>\n",
       "      <td>Quận 7</td>\n",
       "    </tr>\n",
       "    <tr>\n",
       "      <th>2</th>\n",
       "      <td>Chưa bàn giao</td>\n",
       "      <td>75</td>\n",
       "      <td>2</td>\n",
       "      <td>5.0</td>\n",
       "      <td>2</td>\n",
       "      <td>Chung cư</td>\n",
       "      <td>Giấy tờ khác</td>\n",
       "      <td>NaN</td>\n",
       "      <td>Đông Nam</td>\n",
       "      <td>Đông Nam</td>\n",
       "      <td>NaN</td>\n",
       "      <td>2.58e+09</td>\n",
       "      <td>Quận Bình Tân</td>\n",
       "    </tr>\n",
       "    <tr>\n",
       "      <th>3</th>\n",
       "      <td>Đã bàn giao</td>\n",
       "      <td>70</td>\n",
       "      <td>1</td>\n",
       "      <td>7.0</td>\n",
       "      <td>1</td>\n",
       "      <td>Chung cư</td>\n",
       "      <td>Đang chờ sổ</td>\n",
       "      <td>Nội thất cao cấp</td>\n",
       "      <td>Đông Nam</td>\n",
       "      <td>Tây Bắc</td>\n",
       "      <td>NaN</td>\n",
       "      <td>4e+09</td>\n",
       "      <td>Quận Tân Bình</td>\n",
       "    </tr>\n",
       "    <tr>\n",
       "      <th>4</th>\n",
       "      <td>Đã bàn giao</td>\n",
       "      <td>83</td>\n",
       "      <td>2</td>\n",
       "      <td>NaN</td>\n",
       "      <td>2</td>\n",
       "      <td>Chung cư</td>\n",
       "      <td>Đã có sổ</td>\n",
       "      <td>Nội thất cao cấp</td>\n",
       "      <td>Tây Bắc</td>\n",
       "      <td>NaN</td>\n",
       "      <td>NaN</td>\n",
       "      <td>2.95e+09</td>\n",
       "      <td>Quận 6</td>\n",
       "    </tr>\n",
       "    <tr>\n",
       "      <th>...</th>\n",
       "      <td>...</td>\n",
       "      <td>...</td>\n",
       "      <td>...</td>\n",
       "      <td>...</td>\n",
       "      <td>...</td>\n",
       "      <td>...</td>\n",
       "      <td>...</td>\n",
       "      <td>...</td>\n",
       "      <td>...</td>\n",
       "      <td>...</td>\n",
       "      <td>...</td>\n",
       "      <td>...</td>\n",
       "      <td>...</td>\n",
       "    </tr>\n",
       "    <tr>\n",
       "      <th>21685</th>\n",
       "      <td>Đã bàn giao</td>\n",
       "      <td>68</td>\n",
       "      <td>2</td>\n",
       "      <td>NaN</td>\n",
       "      <td>2</td>\n",
       "      <td>Chung cư</td>\n",
       "      <td>Đang chờ sổ</td>\n",
       "      <td>Nội thất cao cấp</td>\n",
       "      <td>Tây Bắc</td>\n",
       "      <td>Đông Nam</td>\n",
       "      <td>NaN</td>\n",
       "      <td>2.45e+09</td>\n",
       "      <td>Quận 8</td>\n",
       "    </tr>\n",
       "    <tr>\n",
       "      <th>21686</th>\n",
       "      <td>Đã bàn giao</td>\n",
       "      <td>53</td>\n",
       "      <td>2</td>\n",
       "      <td>19.0</td>\n",
       "      <td>1</td>\n",
       "      <td>Chung cư</td>\n",
       "      <td>Đang chờ sổ</td>\n",
       "      <td>Hoàn thiện cơ bản</td>\n",
       "      <td>NaN</td>\n",
       "      <td>Tây Nam</td>\n",
       "      <td>NaN</td>\n",
       "      <td>2.1e+09</td>\n",
       "      <td>Quận 9</td>\n",
       "    </tr>\n",
       "    <tr>\n",
       "      <th>21687</th>\n",
       "      <td>Đã bàn giao</td>\n",
       "      <td>76</td>\n",
       "      <td>2</td>\n",
       "      <td>NaN</td>\n",
       "      <td>1</td>\n",
       "      <td>Chung cư</td>\n",
       "      <td>Đã có sổ</td>\n",
       "      <td>Nội thất cao cấp</td>\n",
       "      <td>Đông</td>\n",
       "      <td>Đông Nam</td>\n",
       "      <td>Căn góc</td>\n",
       "      <td>1.55e+09</td>\n",
       "      <td>Huyện Bình Chánh</td>\n",
       "    </tr>\n",
       "    <tr>\n",
       "      <th>21688</th>\n",
       "      <td>Đã bàn giao</td>\n",
       "      <td>82</td>\n",
       "      <td>2</td>\n",
       "      <td>NaN</td>\n",
       "      <td>2</td>\n",
       "      <td>Chung cư</td>\n",
       "      <td>Đã có sổ</td>\n",
       "      <td>Nội thất đầy đủ</td>\n",
       "      <td>Đông Nam</td>\n",
       "      <td>Tây Bắc</td>\n",
       "      <td>NaN</td>\n",
       "      <td>2.65e+09</td>\n",
       "      <td>Quận Bình Thạnh</td>\n",
       "    </tr>\n",
       "    <tr>\n",
       "      <th>21689</th>\n",
       "      <td>Chưa bàn giao</td>\n",
       "      <td>60</td>\n",
       "      <td>2</td>\n",
       "      <td>18.0</td>\n",
       "      <td>1</td>\n",
       "      <td>Chung cư</td>\n",
       "      <td>Đang chờ sổ</td>\n",
       "      <td>Nội thất cao cấp</td>\n",
       "      <td>NaN</td>\n",
       "      <td>NaN</td>\n",
       "      <td>Căn góc</td>\n",
       "      <td>1.9e+09</td>\n",
       "      <td>Quận 6</td>\n",
       "    </tr>\n",
       "  </tbody>\n",
       "</table>\n",
       "<p>21426 rows × 13 columns</p>\n",
       "</div>"
      ],
      "text/plain": [
       "        TinhTrangBDS DienTich Phongngu  SoTang PhongTam      Loai  \\\n",
       "0        Đã bàn giao       62        2     NaN        2  Chung cư   \n",
       "1        Đã bàn giao       95        3     NaN        2  Chung cư   \n",
       "2      Chưa bàn giao       75        2     5.0        2  Chung cư   \n",
       "3        Đã bàn giao       70        1     7.0        1  Chung cư   \n",
       "4        Đã bàn giao       83        2     NaN        2  Chung cư   \n",
       "...              ...      ...      ...     ...      ...       ...   \n",
       "21685    Đã bàn giao       68        2     NaN        2  Chung cư   \n",
       "21686    Đã bàn giao       53        2    19.0        1  Chung cư   \n",
       "21687    Đã bàn giao       76        2     NaN        1  Chung cư   \n",
       "21688    Đã bàn giao       82        2     NaN        2  Chung cư   \n",
       "21689  Chưa bàn giao       60        2    18.0        1  Chung cư   \n",
       "\n",
       "             GiayTo   TinhTrangNoiThat HuongCuaChinh HuongBanCong  DacDiem  \\\n",
       "0          Đã có sổ                NaN           NaN          NaN      NaN   \n",
       "1       Đang chờ sổ   Nội thất cao cấp           NaN          NaN  Căn góc   \n",
       "2      Giấy tờ khác                NaN      Đông Nam     Đông Nam      NaN   \n",
       "3       Đang chờ sổ   Nội thất cao cấp      Đông Nam      Tây Bắc      NaN   \n",
       "4          Đã có sổ   Nội thất cao cấp       Tây Bắc          NaN      NaN   \n",
       "...             ...                ...           ...          ...      ...   \n",
       "21685   Đang chờ sổ   Nội thất cao cấp       Tây Bắc     Đông Nam      NaN   \n",
       "21686   Đang chờ sổ  Hoàn thiện cơ bản           NaN      Tây Nam      NaN   \n",
       "21687      Đã có sổ   Nội thất cao cấp          Đông     Đông Nam  Căn góc   \n",
       "21688      Đã có sổ    Nội thất đầy đủ      Đông Nam      Tây Bắc      NaN   \n",
       "21689   Đang chờ sổ   Nội thất cao cấp           NaN          NaN  Căn góc   \n",
       "\n",
       "            Gia               Quan  \n",
       "0         2e+09             Quận 7  \n",
       "1       5.3e+09             Quận 7  \n",
       "2      2.58e+09      Quận Bình Tân  \n",
       "3         4e+09      Quận Tân Bình  \n",
       "4      2.95e+09             Quận 6  \n",
       "...         ...                ...  \n",
       "21685  2.45e+09             Quận 8  \n",
       "21686   2.1e+09             Quận 9  \n",
       "21687  1.55e+09   Huyện Bình Chánh  \n",
       "21688  2.65e+09    Quận Bình Thạnh  \n",
       "21689   1.9e+09             Quận 6  \n",
       "\n",
       "[21426 rows x 13 columns]"
      ]
     },
     "execution_count": 120,
     "metadata": {},
     "output_type": "execute_result"
    }
   ],
   "source": [
    "df"
   ]
  },
  {
   "cell_type": "markdown",
   "metadata": {},
   "source": [
    "# Trực quan"
   ]
  },
  {
   "cell_type": "markdown",
   "metadata": {},
   "source": [
    "## 1. Trung bình giá nhà ở các quận"
   ]
  },
  {
   "cell_type": "code",
   "execution_count": 123,
   "metadata": {},
   "outputs": [
    {
     "data": {
      "image/png": "[encoded data removed]",
      "text/plain": [
       "<Figure size 1296x576 with 1 Axes>"
      ]
     },
     "metadata": {
      "needs_background": "light"
     },
     "output_type": "display_data"
    }
   ],
   "source": [
    "df.DienTich = pd.to_numeric(df.DienTich)\n",
    "df.Phongngu = pd.to_numeric(df.Phongngu)\n",
    "df.PhongTam = pd.to_numeric(df.PhongTam)\n",
    "df.Gia = pd.to_numeric(df.Gia)\n",
    "df.dtypes\n",
    "df_temp = df.copy()\n",
    "df_temp = df_temp.groupby(\"Quan\")[\"Gia\"].mean() / 1_000_000_000\n",
    "plt.rcParams['figure.figsize'] = (18, 8)\n",
    "plt.ylabel(\"Giá (tỷ đồng)\", fontsize=\"x-large\")\n",
    "df_temp.plot.bar()\n",
    "plt.xlabel(\"Quận\", fontsize=\"x-large\")\n",
    "plt.show()"
   ]
  },
  {
   "cell_type": "markdown",
   "metadata": {},
   "source": [
    "## 2. Nội thất"
   ]
  },
  {
   "cell_type": "code",
   "execution_count": 130,
   "metadata": {},
   "outputs": [
    {
     "data": {
      "image/png": "[encoded data removed]",
      "text/plain": [
       "<Figure size 864x432 with 1 Axes>"
      ]
     },
     "metadata": {
      "needs_background": "light"
     },
     "output_type": "display_data"
    }
   ],
   "source": [
    "df_temp = df.copy()\n",
    "df_temp = df_temp.groupby(\"TinhTrangNoiThat\")[\"Gia\"].mean() / 1_000_000_000\n",
    "plt.rcParams['figure.figsize'] = (12, 6)\n",
    "plt.ylabel(\"Giá (tỷ đồng)\", fontsize=\"x-large\")\n",
    "df_temp.plot.bar(color=\"green\")\n",
    "plt.xlabel(\"Tình trạng nội thất\", fontsize=\"x-large\")\n",
    "plt.xticks(rotation=0)\n",
    "plt.show()"
   ]
  },
  {
   "cell_type": "markdown",
   "metadata": {},
   "source": [
    "## 3. Loại hình "
   ]
  },
  {
   "cell_type": "code",
   "execution_count": 129,
   "metadata": {},
   "outputs": [
    {
     "data": {
      "image/png": "[encoded data removed]",
      "text/plain": [
       "<Figure size 864x432 with 1 Axes>"
      ]
     },
     "metadata": {
      "needs_background": "light"
     },
     "output_type": "display_data"
    }
   ],
   "source": [
    "df_temp = df.copy()\n",
    "df_temp = df_temp.groupby(\"Loai\")[\"Gia\"].mean() / 1_000_000_000\n",
    "plt.rcParams['figure.figsize'] = (12, 6)\n",
    "plt.ylabel(\"Giá (tỷ đồng)\", fontsize=\"x-large\")\n",
    "df_temp.plot.bar(color=\"orange\")\n",
    "plt.xlabel(\"Loại\", fontsize=\"x-large\")\n",
    "plt.xticks(rotation=0)\n",
    "plt.show()"
   ]
  },
  {
   "cell_type": "code",
   "execution_count": null,
   "metadata": {},
   "outputs": [],
   "source": []
  }
 ],
 "metadata": {
  "kernelspec": {
   "display_name": "Python 3",
   "language": "python",
   "name": "python3"
  },
  "language_info": {
   "codemirror_mode": {
    "name": "ipython",
    "version": 3
   },
   "file_extension": ".py",
   "mimetype": "text/x-python",
   "name": "python",
   "nbconvert_exporter": "python",
   "pygments_lexer": "ipython3",
   "version": "3.8.5"
  }
 },
 "nbformat": 4,
 "nbformat_minor": 4
}
