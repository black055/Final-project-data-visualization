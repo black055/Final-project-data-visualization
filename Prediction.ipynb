{
 "cells": [
  {
   "cell_type": "code",
   "execution_count": 1,
   "metadata": {},
   "outputs": [],
   "source": [
    "import pandas as pd\n",
    "import numpy as np\n",
    "import seaborn as sns\n",
    "import matplotlib.pyplot as plt\n",
    "from scipy import stats\n",
    "from scipy.stats import norm\n",
    "from scipy.stats import skew\n",
    "\n",
    "from sklearn.preprocessing import LabelEncoder\n",
    "from sklearn.preprocessing import OneHotEncoder\n",
    "\n",
    "\n",
    "from sklearn.model_selection import train_test_split\n",
    "import warnings\n",
    "warnings.filterwarnings('ignore')"
   ]
  },
  {
   "cell_type": "code",
   "execution_count": 2,
   "metadata": {},
   "outputs": [],
   "source": [
    "pd.set_option('display.float_format', lambda x: '%.1f' % x)\n",
    "def missing_ratio(s):\n",
    "    return s.isna().mean() * 100"
   ]
  },
  {
   "cell_type": "code",
   "execution_count": 3,
   "metadata": {},
   "outputs": [
    {
     "data": {
      "text/html": [
       "<div>\n",
       "<style scoped>\n",
       "    .dataframe tbody tr th:only-of-type {\n",
       "        vertical-align: middle;\n",
       "    }\n",
       "\n",
       "    .dataframe tbody tr th {\n",
       "        vertical-align: top;\n",
       "    }\n",
       "\n",
       "    .dataframe thead th {\n",
       "        text-align: right;\n",
       "    }\n",
       "</style>\n",
       "<table border=\"1\" class=\"dataframe\">\n",
       "  <thead>\n",
       "    <tr style=\"text-align: right;\">\n",
       "      <th></th>\n",
       "      <th>DiaChi</th>\n",
       "      <th>TinhTrangBDS</th>\n",
       "      <th>DienTich</th>\n",
       "      <th>Gia/m2</th>\n",
       "      <th>Phongngu</th>\n",
       "      <th>TenPhanKhu</th>\n",
       "      <th>SoTang</th>\n",
       "      <th>PhongTam</th>\n",
       "      <th>Loai</th>\n",
       "      <th>GiayTo</th>\n",
       "      <th>MaCanHo</th>\n",
       "      <th>TinhTrangNoiThat</th>\n",
       "      <th>HuongCuaChinh</th>\n",
       "      <th>HuongBanCong</th>\n",
       "      <th>DacDiem</th>\n",
       "      <th>Gia</th>\n",
       "    </tr>\n",
       "  </thead>\n",
       "  <tbody>\n",
       "    <tr>\n",
       "      <th>0</th>\n",
       "      <td>Đường Nguyễn Văn Quỳ, Phường Phú Thuận, Quận 7...</td>\n",
       "      <td>Đã bàn giao</td>\n",
       "      <td>62 m²</td>\n",
       "      <td>32,26 triệu/m²</td>\n",
       "      <td>2 phòng</td>\n",
       "      <td>NaN</td>\n",
       "      <td>nan</td>\n",
       "      <td>2 phòng</td>\n",
       "      <td>Chung cư</td>\n",
       "      <td>Đã có sổ</td>\n",
       "      <td>NaN</td>\n",
       "      <td>NaN</td>\n",
       "      <td>NaN</td>\n",
       "      <td>NaN</td>\n",
       "      <td>NaN</td>\n",
       "      <td>2 tỷ- 62 m2đ</td>\n",
       "    </tr>\n",
       "    <tr>\n",
       "      <th>1</th>\n",
       "      <td>Đường Nguyễn Văn Linh, Phường Tân Thuận Tây, Q...</td>\n",
       "      <td>Đã bàn giao</td>\n",
       "      <td>95 m²</td>\n",
       "      <td>55,79 triệu/m²</td>\n",
       "      <td>3 phòng</td>\n",
       "      <td>NaN</td>\n",
       "      <td>nan</td>\n",
       "      <td>2 phòng</td>\n",
       "      <td>Chung cư</td>\n",
       "      <td>Đang chờ sổ</td>\n",
       "      <td>NaN</td>\n",
       "      <td>Nội thất cao cấp</td>\n",
       "      <td>NaN</td>\n",
       "      <td>NaN</td>\n",
       "      <td>Căn góc</td>\n",
       "      <td>5,3 tỷ- 95 m2đ</td>\n",
       "    </tr>\n",
       "  </tbody>\n",
       "</table>\n",
       "</div>"
      ],
      "text/plain": [
       "                                              DiaChi TinhTrangBDS DienTich  \\\n",
       "0  Đường Nguyễn Văn Quỳ, Phường Phú Thuận, Quận 7...  Đã bàn giao    62 m²   \n",
       "1  Đường Nguyễn Văn Linh, Phường Tân Thuận Tây, Q...  Đã bàn giao    95 m²   \n",
       "\n",
       "            Gia/m2 Phongngu TenPhanKhu  SoTang PhongTam      Loai  \\\n",
       "0   32,26 triệu/m²  2 phòng        NaN     nan  2 phòng  Chung cư   \n",
       "1   55,79 triệu/m²  3 phòng        NaN     nan  2 phòng  Chung cư   \n",
       "\n",
       "        GiayTo MaCanHo  TinhTrangNoiThat HuongCuaChinh HuongBanCong  DacDiem  \\\n",
       "0     Đã có sổ     NaN               NaN           NaN          NaN      NaN   \n",
       "1  Đang chờ sổ     NaN  Nội thất cao cấp           NaN          NaN  Căn góc   \n",
       "\n",
       "              Gia  \n",
       "0    2 tỷ- 62 m2đ  \n",
       "1  5,3 tỷ- 95 m2đ  "
      ]
     },
     "execution_count": 3,
     "metadata": {},
     "output_type": "execute_result"
    }
   ],
   "source": [
    "pd.options.mode.chained_assignment = None\n",
    "\n",
    "df = pd.read_csv(\"rawdata.csv\", skipinitialspace=True)\n",
    "df.head(2)"
   ]
  },
  {
   "cell_type": "markdown",
   "metadata": {},
   "source": [
    "## Tiền Xử Lý"
   ]
  },
  {
   "cell_type": "code",
   "execution_count": 4,
   "metadata": {},
   "outputs": [],
   "source": [
    "#Chỉ lấy diện tích not null và có diện tích trong khoảng 20m2 đến 100m2\n",
    "df = df[df.DienTich.notnull()]\n",
    "df = df.reset_index()\n",
    "for i in range(len(df.DienTich)):\n",
    "    df.DienTich[i] = float(df.DienTich[i].split(' ')[0])\n",
    "df = df[(df.DienTich >= 20) & (df.DienTich <= 100)]\n",
    "df = df.reset_index()"
   ]
  },
  {
   "cell_type": "code",
   "execution_count": 5,
   "metadata": {},
   "outputs": [],
   "source": [
    "#Chỉ lấy các căn hộ có dữ liệu về phòng ngủ và phòng tắm\n",
    "df = df[df.SoTang.notnull()]\n",
    "df = df[df.Phongngu.notnull()]\n",
    "df = df[df.PhongTam.notnull()]\n",
    "df = df.reset_index(drop=True)\n",
    "\n",
    "#Xóa các chữ dư thừa (phòng, nhiều hơn, ...) trong dữ liệu\n",
    "for i in range(len(df.Phongngu)):\n",
    "    if \"nhiều hơn\" in df.Phongngu[i]:\n",
    "        df.Phongngu[i]= int(df.Phongngu[i].split(' ')[2])+1\n",
    "    else:\n",
    "        df.Phongngu[i]= df.Phongngu[i].split(' ')[0]\n",
    "for i in range(len(df.PhongTam)):\n",
    "    if \"Nhiều hơn\" in df.PhongTam[i]:\n",
    "        df.PhongTam[i]= int(df.PhongTam[i].split(' ')[2])+1\n",
    "    else:\n",
    "        df.PhongTam[i]= df.PhongTam[i].split(' ')[0]"
   ]
  },
  {
   "cell_type": "code",
   "execution_count": 6,
   "metadata": {},
   "outputs": [],
   "source": [
    "#df = df[df.GiayTo == 'Đã có sổ']\n",
    "df = df[df.TinhTrangNoiThat.isin(['Bàn giao thô', 'Hoàn thiện cơ bản', 'Nội thất đầy đủ', 'Nội thất cao cấp'])]\n",
    "df = df.reset_index(drop=True)"
   ]
  },
  {
   "cell_type": "code",
   "execution_count": 7,
   "metadata": {},
   "outputs": [],
   "source": [
    "#Loại bỏ những dòng dữ liệu có chứa từ khóa 'GIÁ TỐT' ở cột giá\n",
    "df = df[~df.Gia.str.contains('GIÁ TỐT')]\n",
    "df = df[df.Gia.str.contains('tỷ|triệu')]\n",
    "df = df.reset_index(drop=True)\n",
    "for i in range(len(df.Gia)):\n",
    "    if 'tỷ' in df.Gia[i]:\n",
    "        price = df.Gia[i].split(' ')[0]\n",
    "        price = price.replace(',','.')\n",
    "        df.Gia[i] = round(float(price)*1000000000,1)\n",
    "    elif 'triệu' in df.Gia[i] :\n",
    "        price = df.Gia[i].split(' ')[0]\n",
    "        price = price.replace(',','.')\n",
    "        df.Gia[i] = round(float(price)*1000000,1)\n",
    "\n",
    "#Chỉ lấy các căn hộ có giá từ 50 triệu đến 10 tỷ\n",
    "df = df[(df.Gia >= 50000000) & (df.Gia <= 10000000000)]\n",
    "df = df.reset_index(drop=True)"
   ]
  },
  {
   "cell_type": "code",
   "execution_count": 8,
   "metadata": {},
   "outputs": [],
   "source": [
    "#Tạo thêm cột 'Quận' để dễ dàng trong việc phân tích dữ liệu\n",
    "df[\"Quan\"] = df.DiaChi.copy()\n",
    "for i in range(len(df.DiaChi)):\n",
    "    address = df.DiaChi[i].split(',')\n",
    "    df.Quan[i] = address[len(address)-2]\n",
    "    \n",
    "#Xóa các dòng dữ liệu không có 'Quận'\n",
    "for i in df.Quan:\n",
    "    if 'Quận' not in i and 'Huyện' not in i:\n",
    "        df = df.drop(df[df.Quan == i].index)   "
   ]
  },
  {
   "cell_type": "code",
   "execution_count": 9,
   "metadata": {},
   "outputs": [],
   "source": [
    "#Xóa các cột dữ liệu không sử dụng\n",
    "del df[\"Gia/m2\"]\n",
    "del df[\"TenPhanKhu\"]\n",
    "del df[\"MaCanHo\"]\n",
    "del df[\"DiaChi\"]\n",
    "del df[\"level_0\"]\n",
    "del df[\"index\"]\n",
    "del df['DacDiem']"
   ]
  },
  {
   "cell_type": "code",
   "execution_count": 10,
   "metadata": {
    "scrolled": true
   },
   "outputs": [
    {
     "data": {
      "text/html": [
       "<div>\n",
       "<style scoped>\n",
       "    .dataframe tbody tr th:only-of-type {\n",
       "        vertical-align: middle;\n",
       "    }\n",
       "\n",
       "    .dataframe tbody tr th {\n",
       "        vertical-align: top;\n",
       "    }\n",
       "\n",
       "    .dataframe thead th {\n",
       "        text-align: right;\n",
       "    }\n",
       "</style>\n",
       "<table border=\"1\" class=\"dataframe\">\n",
       "  <thead>\n",
       "    <tr style=\"text-align: right;\">\n",
       "      <th></th>\n",
       "      <th>TinhTrangBDS</th>\n",
       "      <th>DienTich</th>\n",
       "      <th>Phongngu</th>\n",
       "      <th>SoTang</th>\n",
       "      <th>PhongTam</th>\n",
       "      <th>Loai</th>\n",
       "      <th>GiayTo</th>\n",
       "      <th>TinhTrangNoiThat</th>\n",
       "      <th>HuongCuaChinh</th>\n",
       "      <th>HuongBanCong</th>\n",
       "      <th>Gia</th>\n",
       "      <th>Quan</th>\n",
       "    </tr>\n",
       "  </thead>\n",
       "  <tbody>\n",
       "    <tr>\n",
       "      <th>0</th>\n",
       "      <td>Đã bàn giao</td>\n",
       "      <td>70.0</td>\n",
       "      <td>1</td>\n",
       "      <td>7.0</td>\n",
       "      <td>1</td>\n",
       "      <td>Chung cư</td>\n",
       "      <td>Đang chờ sổ</td>\n",
       "      <td>Nội thất cao cấp</td>\n",
       "      <td>Đông Nam</td>\n",
       "      <td>Tây Bắc</td>\n",
       "      <td>4000000000.0</td>\n",
       "      <td>Quận Tân Bình</td>\n",
       "    </tr>\n",
       "    <tr>\n",
       "      <th>1</th>\n",
       "      <td>Đã bàn giao</td>\n",
       "      <td>50.0</td>\n",
       "      <td>1</td>\n",
       "      <td>3.0</td>\n",
       "      <td>1</td>\n",
       "      <td>Chung cư</td>\n",
       "      <td>Đã có sổ</td>\n",
       "      <td>Hoàn thiện cơ bản</td>\n",
       "      <td>Nam</td>\n",
       "      <td>Bắc</td>\n",
       "      <td>1390000000.0</td>\n",
       "      <td>Quận Bình Tân</td>\n",
       "    </tr>\n",
       "  </tbody>\n",
       "</table>\n",
       "</div>"
      ],
      "text/plain": [
       "  TinhTrangBDS DienTich Phongngu  SoTang PhongTam      Loai       GiayTo  \\\n",
       "0  Đã bàn giao     70.0        1     7.0        1  Chung cư  Đang chờ sổ   \n",
       "1  Đã bàn giao     50.0        1     3.0        1  Chung cư     Đã có sổ   \n",
       "\n",
       "    TinhTrangNoiThat HuongCuaChinh HuongBanCong          Gia            Quan  \n",
       "0   Nội thất cao cấp      Đông Nam      Tây Bắc 4000000000.0   Quận Tân Bình  \n",
       "1  Hoàn thiện cơ bản           Nam          Bắc 1390000000.0   Quận Bình Tân  "
      ]
     },
     "execution_count": 10,
     "metadata": {},
     "output_type": "execute_result"
    }
   ],
   "source": [
    "df.head(2)"
   ]
  },
  {
   "cell_type": "code",
   "execution_count": 11,
   "metadata": {},
   "outputs": [
    {
     "name": "stdout",
     "output_type": "stream",
     "text": [
      "<class 'pandas.core.frame.DataFrame'>\n",
      "Int64Index: 4681 entries, 0 to 4776\n",
      "Data columns (total 12 columns):\n",
      " #   Column            Non-Null Count  Dtype  \n",
      "---  ------            --------------  -----  \n",
      " 0   TinhTrangBDS      4681 non-null   object \n",
      " 1   DienTich          4681 non-null   object \n",
      " 2   Phongngu          4681 non-null   object \n",
      " 3   SoTang            4681 non-null   float64\n",
      " 4   PhongTam          4681 non-null   object \n",
      " 5   Loai              4681 non-null   object \n",
      " 6   GiayTo            4600 non-null   object \n",
      " 7   TinhTrangNoiThat  4681 non-null   object \n",
      " 8   HuongCuaChinh     3373 non-null   object \n",
      " 9   HuongBanCong      3268 non-null   object \n",
      " 10  Gia               4681 non-null   object \n",
      " 11  Quan              4681 non-null   object \n",
      "dtypes: float64(1), object(11)\n",
      "memory usage: 475.4+ KB\n"
     ]
    }
   ],
   "source": [
    "df.info()"
   ]
  },
  {
   "cell_type": "code",
   "execution_count": 12,
   "metadata": {},
   "outputs": [
    {
     "data": {
      "text/plain": [
       "1285"
      ]
     },
     "execution_count": 12,
     "metadata": {},
     "output_type": "execute_result"
    }
   ],
   "source": [
    "df.duplicated().sum()"
   ]
  },
  {
   "cell_type": "code",
   "execution_count": 13,
   "metadata": {},
   "outputs": [],
   "source": [
    "df = df.drop_duplicates()"
   ]
  },
  {
   "cell_type": "code",
   "execution_count": 14,
   "metadata": {},
   "outputs": [
    {
     "data": {
      "text/html": [
       "<div>\n",
       "<style scoped>\n",
       "    .dataframe tbody tr th:only-of-type {\n",
       "        vertical-align: middle;\n",
       "    }\n",
       "\n",
       "    .dataframe tbody tr th {\n",
       "        vertical-align: top;\n",
       "    }\n",
       "\n",
       "    .dataframe thead th {\n",
       "        text-align: right;\n",
       "    }\n",
       "</style>\n",
       "<table border=\"1\" class=\"dataframe\">\n",
       "  <thead>\n",
       "    <tr style=\"text-align: right;\">\n",
       "      <th></th>\n",
       "      <th>TinhTrangBDS</th>\n",
       "      <th>DienTich</th>\n",
       "      <th>Phongngu</th>\n",
       "      <th>SoTang</th>\n",
       "      <th>PhongTam</th>\n",
       "      <th>Loai</th>\n",
       "      <th>GiayTo</th>\n",
       "      <th>TinhTrangNoiThat</th>\n",
       "      <th>HuongCuaChinh</th>\n",
       "      <th>HuongBanCong</th>\n",
       "      <th>Gia</th>\n",
       "      <th>Quan</th>\n",
       "    </tr>\n",
       "  </thead>\n",
       "  <tbody>\n",
       "    <tr>\n",
       "      <th>missing_ratio</th>\n",
       "      <td>0.0</td>\n",
       "      <td>0.0</td>\n",
       "      <td>0.0</td>\n",
       "      <td>0.0</td>\n",
       "      <td>0.0</td>\n",
       "      <td>0.0</td>\n",
       "      <td>2.4</td>\n",
       "      <td>0.0</td>\n",
       "      <td>33.5</td>\n",
       "      <td>36.6</td>\n",
       "      <td>0.0</td>\n",
       "      <td>0.0</td>\n",
       "    </tr>\n",
       "    <tr>\n",
       "      <th>min</th>\n",
       "      <td>Chưa bàn giao</td>\n",
       "      <td>21.0</td>\n",
       "      <td>NaN</td>\n",
       "      <td>1.0</td>\n",
       "      <td>NaN</td>\n",
       "      <td>Căn hộ dịch vụ, mini</td>\n",
       "      <td>NaN</td>\n",
       "      <td>Bàn giao thô</td>\n",
       "      <td>NaN</td>\n",
       "      <td>NaN</td>\n",
       "      <td>50000000.0</td>\n",
       "      <td>Huyện Bình Chánh</td>\n",
       "    </tr>\n",
       "    <tr>\n",
       "      <th>max</th>\n",
       "      <td>Đã bàn giao</td>\n",
       "      <td>100.0</td>\n",
       "      <td>NaN</td>\n",
       "      <td>720.0</td>\n",
       "      <td>NaN</td>\n",
       "      <td>Penthouse</td>\n",
       "      <td>NaN</td>\n",
       "      <td>Nội thất đầy đủ</td>\n",
       "      <td>NaN</td>\n",
       "      <td>NaN</td>\n",
       "      <td>10000000000.0</td>\n",
       "      <td>Quận Tân Phú</td>\n",
       "    </tr>\n",
       "    <tr>\n",
       "      <th>nunique</th>\n",
       "      <td>2</td>\n",
       "      <td>287</td>\n",
       "      <td>7</td>\n",
       "      <td>46</td>\n",
       "      <td>6</td>\n",
       "      <td>6</td>\n",
       "      <td>3</td>\n",
       "      <td>4</td>\n",
       "      <td>8</td>\n",
       "      <td>8</td>\n",
       "      <td>641</td>\n",
       "      <td>23</td>\n",
       "    </tr>\n",
       "    <tr>\n",
       "      <th>unique</th>\n",
       "      <td>[Đã bàn giao, Chưa bàn giao]</td>\n",
       "      <td>[70.0, 50.0, 83.0, 51.0, 67.62, 68.0, 40.0, 85...</td>\n",
       "      <td>[1, 2, 3, 11, 6, 4, 5]</td>\n",
       "      <td>[7.0, 3.0, 5.0, 6.0, 14.0, 4.0, 15.0, 20.0, 28...</td>\n",
       "      <td>[1, 2, 3, 7, 5, 4]</td>\n",
       "      <td>[Chung cư, Duplex,  Căn hộ dịch vụ, mini, Offi...</td>\n",
       "      <td>[Đang chờ sổ, Đã có sổ, Giấy tờ khác, nan]</td>\n",
       "      <td>[Nội thất cao cấp, Hoàn thiện cơ bản, Nội thất...</td>\n",
       "      <td>[Đông Nam, Nam, Tây Nam, Tây, Đông Bắc, nan, T...</td>\n",
       "      <td>[Tây Bắc, Bắc, Đông Bắc, nan, Tây Nam, Đông Na...</td>\n",
       "      <td>[4000000000.0, 1390000000.0, 4500000000.0, 170...</td>\n",
       "      <td>[ Quận Tân Bình,  Quận Bình Tân,  Quận Bình Th...</td>\n",
       "    </tr>\n",
       "  </tbody>\n",
       "</table>\n",
       "</div>"
      ],
      "text/plain": [
       "                               TinhTrangBDS  \\\n",
       "missing_ratio                           0.0   \n",
       "min                           Chưa bàn giao   \n",
       "max                             Đã bàn giao   \n",
       "nunique                                   2   \n",
       "unique         [Đã bàn giao, Chưa bàn giao]   \n",
       "\n",
       "                                                        DienTich  \\\n",
       "missing_ratio                                                0.0   \n",
       "min                                                         21.0   \n",
       "max                                                        100.0   \n",
       "nunique                                                      287   \n",
       "unique         [70.0, 50.0, 83.0, 51.0, 67.62, 68.0, 40.0, 85...   \n",
       "\n",
       "                             Phongngu  \\\n",
       "missing_ratio                     0.0   \n",
       "min                               NaN   \n",
       "max                               NaN   \n",
       "nunique                             7   \n",
       "unique         [1, 2, 3, 11, 6, 4, 5]   \n",
       "\n",
       "                                                          SoTang  \\\n",
       "missing_ratio                                                0.0   \n",
       "min                                                          1.0   \n",
       "max                                                        720.0   \n",
       "nunique                                                       46   \n",
       "unique         [7.0, 3.0, 5.0, 6.0, 14.0, 4.0, 15.0, 20.0, 28...   \n",
       "\n",
       "                         PhongTam  \\\n",
       "missing_ratio                 0.0   \n",
       "min                           NaN   \n",
       "max                           NaN   \n",
       "nunique                         6   \n",
       "unique         [1, 2, 3, 7, 5, 4]   \n",
       "\n",
       "                                                            Loai  \\\n",
       "missing_ratio                                                0.0   \n",
       "min                                         Căn hộ dịch vụ, mini   \n",
       "max                                                    Penthouse   \n",
       "nunique                                                        6   \n",
       "unique         [Chung cư, Duplex,  Căn hộ dịch vụ, mini, Offi...   \n",
       "\n",
       "                                                   GiayTo  \\\n",
       "missing_ratio                                         2.4   \n",
       "min                                                   NaN   \n",
       "max                                                   NaN   \n",
       "nunique                                                 3   \n",
       "unique         [Đang chờ sổ, Đã có sổ, Giấy tờ khác, nan]   \n",
       "\n",
       "                                                TinhTrangNoiThat  \\\n",
       "missing_ratio                                                0.0   \n",
       "min                                                 Bàn giao thô   \n",
       "max                                              Nội thất đầy đủ   \n",
       "nunique                                                        4   \n",
       "unique         [Nội thất cao cấp, Hoàn thiện cơ bản, Nội thất...   \n",
       "\n",
       "                                                   HuongCuaChinh  \\\n",
       "missing_ratio                                               33.5   \n",
       "min                                                          NaN   \n",
       "max                                                          NaN   \n",
       "nunique                                                        8   \n",
       "unique         [Đông Nam, Nam, Tây Nam, Tây, Đông Bắc, nan, T...   \n",
       "\n",
       "                                                    HuongBanCong  \\\n",
       "missing_ratio                                               36.6   \n",
       "min                                                          NaN   \n",
       "max                                                          NaN   \n",
       "nunique                                                        8   \n",
       "unique         [Tây Bắc, Bắc, Đông Bắc, nan, Tây Nam, Đông Na...   \n",
       "\n",
       "                                                             Gia  \\\n",
       "missing_ratio                                                0.0   \n",
       "min                                                   50000000.0   \n",
       "max                                                10000000000.0   \n",
       "nunique                                                      641   \n",
       "unique         [4000000000.0, 1390000000.0, 4500000000.0, 170...   \n",
       "\n",
       "                                                            Quan  \n",
       "missing_ratio                                                0.0  \n",
       "min                                             Huyện Bình Chánh  \n",
       "max                                                 Quận Tân Phú  \n",
       "nunique                                                       23  \n",
       "unique         [ Quận Tân Bình,  Quận Bình Tân,  Quận Bình Th...  "
      ]
     },
     "execution_count": 14,
     "metadata": {},
     "output_type": "execute_result"
    }
   ],
   "source": [
    "df.loc[:,:].agg([missing_ratio,pd.Series.min,pd.Series.max,pd.Series.nunique,pd.Series.unique])"
   ]
  },
  {
   "cell_type": "code",
   "execution_count": 15,
   "metadata": {},
   "outputs": [],
   "source": [
    "for col in ['GiayTo', 'HuongCuaChinh', 'HuongBanCong']:\n",
    "    df[col] = df[col].fillna(df[col].mode()[0])"
   ]
  },
  {
   "cell_type": "code",
   "execution_count": 16,
   "metadata": {},
   "outputs": [],
   "source": [
    "df.DienTich = pd.to_numeric(df.DienTich)\n",
    "df.Phongngu = pd.to_numeric(df.Phongngu)\n",
    "df.PhongTam = pd.to_numeric(df.PhongTam)\n",
    "df.Gia = pd.to_numeric(df.Gia)\n",
    "df['GiayTo']=df['GiayTo'].astype('str')\n",
    "df['HuongCuaChinh']=df['HuongCuaChinh'].astype('str')\n",
    "df['HuongBanCong']=df['HuongBanCong'].astype('str')"
   ]
  },
  {
   "cell_type": "code",
   "execution_count": 17,
   "metadata": {},
   "outputs": [
    {
     "name": "stdout",
     "output_type": "stream",
     "text": [
      "<class 'pandas.core.frame.DataFrame'>\n",
      "Int64Index: 3396 entries, 0 to 4776\n",
      "Data columns (total 12 columns):\n",
      " #   Column            Non-Null Count  Dtype  \n",
      "---  ------            --------------  -----  \n",
      " 0   TinhTrangBDS      3396 non-null   object \n",
      " 1   DienTich          3396 non-null   float64\n",
      " 2   Phongngu          3396 non-null   int64  \n",
      " 3   SoTang            3396 non-null   float64\n",
      " 4   PhongTam          3396 non-null   int64  \n",
      " 5   Loai              3396 non-null   object \n",
      " 6   GiayTo            3396 non-null   object \n",
      " 7   TinhTrangNoiThat  3396 non-null   object \n",
      " 8   HuongCuaChinh     3396 non-null   object \n",
      " 9   HuongBanCong      3396 non-null   object \n",
      " 10  Gia               3396 non-null   float64\n",
      " 11  Quan              3396 non-null   object \n",
      "dtypes: float64(3), int64(2), object(7)\n",
      "memory usage: 344.9+ KB\n"
     ]
    }
   ],
   "source": [
    "df.info()"
   ]
  },
  {
   "cell_type": "code",
   "execution_count": 18,
   "metadata": {},
   "outputs": [
    {
     "data": {
      "text/html": [
       "<div>\n",
       "<style scoped>\n",
       "    .dataframe tbody tr th:only-of-type {\n",
       "        vertical-align: middle;\n",
       "    }\n",
       "\n",
       "    .dataframe tbody tr th {\n",
       "        vertical-align: top;\n",
       "    }\n",
       "\n",
       "    .dataframe thead th {\n",
       "        text-align: right;\n",
       "    }\n",
       "</style>\n",
       "<table border=\"1\" class=\"dataframe\">\n",
       "  <thead>\n",
       "    <tr style=\"text-align: right;\">\n",
       "      <th></th>\n",
       "      <th>TinhTrangBDS</th>\n",
       "      <th>DienTich</th>\n",
       "      <th>Phongngu</th>\n",
       "      <th>SoTang</th>\n",
       "      <th>PhongTam</th>\n",
       "      <th>Loai</th>\n",
       "      <th>GiayTo</th>\n",
       "      <th>TinhTrangNoiThat</th>\n",
       "      <th>HuongCuaChinh</th>\n",
       "      <th>HuongBanCong</th>\n",
       "      <th>Gia</th>\n",
       "      <th>Quan</th>\n",
       "    </tr>\n",
       "  </thead>\n",
       "  <tbody>\n",
       "    <tr>\n",
       "      <th>missing_ratio</th>\n",
       "      <td>0.0</td>\n",
       "      <td>0.0</td>\n",
       "      <td>0.0</td>\n",
       "      <td>0.0</td>\n",
       "      <td>0.0</td>\n",
       "      <td>0.0</td>\n",
       "      <td>0.0</td>\n",
       "      <td>0.0</td>\n",
       "      <td>0.0</td>\n",
       "      <td>0.0</td>\n",
       "      <td>0.0</td>\n",
       "      <td>0.0</td>\n",
       "    </tr>\n",
       "    <tr>\n",
       "      <th>min</th>\n",
       "      <td>Chưa bàn giao</td>\n",
       "      <td>21.0</td>\n",
       "      <td>1</td>\n",
       "      <td>1.0</td>\n",
       "      <td>1</td>\n",
       "      <td>Căn hộ dịch vụ, mini</td>\n",
       "      <td>Giấy tờ khác</td>\n",
       "      <td>Bàn giao thô</td>\n",
       "      <td>Bắc</td>\n",
       "      <td>Bắc</td>\n",
       "      <td>50000000.0</td>\n",
       "      <td>Huyện Bình Chánh</td>\n",
       "    </tr>\n",
       "    <tr>\n",
       "      <th>max</th>\n",
       "      <td>Đã bàn giao</td>\n",
       "      <td>100.0</td>\n",
       "      <td>11</td>\n",
       "      <td>720.0</td>\n",
       "      <td>7</td>\n",
       "      <td>Penthouse</td>\n",
       "      <td>Đã có sổ</td>\n",
       "      <td>Nội thất đầy đủ</td>\n",
       "      <td>Đông Nam</td>\n",
       "      <td>Đông Nam</td>\n",
       "      <td>10000000000.0</td>\n",
       "      <td>Quận Tân Phú</td>\n",
       "    </tr>\n",
       "    <tr>\n",
       "      <th>nunique</th>\n",
       "      <td>2</td>\n",
       "      <td>287</td>\n",
       "      <td>7</td>\n",
       "      <td>46</td>\n",
       "      <td>6</td>\n",
       "      <td>6</td>\n",
       "      <td>3</td>\n",
       "      <td>4</td>\n",
       "      <td>8</td>\n",
       "      <td>8</td>\n",
       "      <td>641</td>\n",
       "      <td>23</td>\n",
       "    </tr>\n",
       "    <tr>\n",
       "      <th>unique</th>\n",
       "      <td>[Đã bàn giao, Chưa bàn giao]</td>\n",
       "      <td>[70.0, 50.0, 83.0, 51.0, 67.62, 68.0, 40.0, 85...</td>\n",
       "      <td>[1, 2, 3, 11, 6, 4, 5]</td>\n",
       "      <td>[7.0, 3.0, 5.0, 6.0, 14.0, 4.0, 15.0, 20.0, 28...</td>\n",
       "      <td>[1, 2, 3, 7, 5, 4]</td>\n",
       "      <td>[Chung cư, Duplex,  Căn hộ dịch vụ, mini, Offi...</td>\n",
       "      <td>[Đang chờ sổ, Đã có sổ, Giấy tờ khác]</td>\n",
       "      <td>[Nội thất cao cấp, Hoàn thiện cơ bản, Nội thất...</td>\n",
       "      <td>[Đông Nam, Nam, Tây Nam, Tây, Đông Bắc, Tây Bắ...</td>\n",
       "      <td>[Tây Bắc, Bắc, Đông Bắc, Đông Nam, Tây Nam, Na...</td>\n",
       "      <td>[4000000000.0, 1390000000.0, 4500000000.0, 170...</td>\n",
       "      <td>[ Quận Tân Bình,  Quận Bình Tân,  Quận Bình Th...</td>\n",
       "    </tr>\n",
       "  </tbody>\n",
       "</table>\n",
       "</div>"
      ],
      "text/plain": [
       "                               TinhTrangBDS  \\\n",
       "missing_ratio                           0.0   \n",
       "min                           Chưa bàn giao   \n",
       "max                             Đã bàn giao   \n",
       "nunique                                   2   \n",
       "unique         [Đã bàn giao, Chưa bàn giao]   \n",
       "\n",
       "                                                        DienTich  \\\n",
       "missing_ratio                                                0.0   \n",
       "min                                                         21.0   \n",
       "max                                                        100.0   \n",
       "nunique                                                      287   \n",
       "unique         [70.0, 50.0, 83.0, 51.0, 67.62, 68.0, 40.0, 85...   \n",
       "\n",
       "                             Phongngu  \\\n",
       "missing_ratio                     0.0   \n",
       "min                                 1   \n",
       "max                                11   \n",
       "nunique                             7   \n",
       "unique         [1, 2, 3, 11, 6, 4, 5]   \n",
       "\n",
       "                                                          SoTang  \\\n",
       "missing_ratio                                                0.0   \n",
       "min                                                          1.0   \n",
       "max                                                        720.0   \n",
       "nunique                                                       46   \n",
       "unique         [7.0, 3.0, 5.0, 6.0, 14.0, 4.0, 15.0, 20.0, 28...   \n",
       "\n",
       "                         PhongTam  \\\n",
       "missing_ratio                 0.0   \n",
       "min                             1   \n",
       "max                             7   \n",
       "nunique                         6   \n",
       "unique         [1, 2, 3, 7, 5, 4]   \n",
       "\n",
       "                                                            Loai  \\\n",
       "missing_ratio                                                0.0   \n",
       "min                                         Căn hộ dịch vụ, mini   \n",
       "max                                                    Penthouse   \n",
       "nunique                                                        6   \n",
       "unique         [Chung cư, Duplex,  Căn hộ dịch vụ, mini, Offi...   \n",
       "\n",
       "                                              GiayTo  \\\n",
       "missing_ratio                                    0.0   \n",
       "min                                     Giấy tờ khác   \n",
       "max                                         Đã có sổ   \n",
       "nunique                                            3   \n",
       "unique         [Đang chờ sổ, Đã có sổ, Giấy tờ khác]   \n",
       "\n",
       "                                                TinhTrangNoiThat  \\\n",
       "missing_ratio                                                0.0   \n",
       "min                                                 Bàn giao thô   \n",
       "max                                              Nội thất đầy đủ   \n",
       "nunique                                                        4   \n",
       "unique         [Nội thất cao cấp, Hoàn thiện cơ bản, Nội thất...   \n",
       "\n",
       "                                                   HuongCuaChinh  \\\n",
       "missing_ratio                                                0.0   \n",
       "min                                                          Bắc   \n",
       "max                                                     Đông Nam   \n",
       "nunique                                                        8   \n",
       "unique         [Đông Nam, Nam, Tây Nam, Tây, Đông Bắc, Tây Bắ...   \n",
       "\n",
       "                                                    HuongBanCong  \\\n",
       "missing_ratio                                                0.0   \n",
       "min                                                          Bắc   \n",
       "max                                                     Đông Nam   \n",
       "nunique                                                        8   \n",
       "unique         [Tây Bắc, Bắc, Đông Bắc, Đông Nam, Tây Nam, Na...   \n",
       "\n",
       "                                                             Gia  \\\n",
       "missing_ratio                                                0.0   \n",
       "min                                                   50000000.0   \n",
       "max                                                10000000000.0   \n",
       "nunique                                                      641   \n",
       "unique         [4000000000.0, 1390000000.0, 4500000000.0, 170...   \n",
       "\n",
       "                                                            Quan  \n",
       "missing_ratio                                                0.0  \n",
       "min                                             Huyện Bình Chánh  \n",
       "max                                                 Quận Tân Phú  \n",
       "nunique                                                       23  \n",
       "unique         [ Quận Tân Bình,  Quận Bình Tân,  Quận Bình Th...  "
      ]
     },
     "execution_count": 18,
     "metadata": {},
     "output_type": "execute_result"
    }
   ],
   "source": [
    "df.loc[:,:].agg([missing_ratio,pd.Series.min,pd.Series.max,pd.Series.nunique,pd.Series.unique])"
   ]
  },
  {
   "cell_type": "code",
   "execution_count": 19,
   "metadata": {},
   "outputs": [
    {
     "data": {
      "text/plain": [
       "DienTich   0.6\n",
       "PhongTam   0.4\n",
       "Phongngu   0.4\n",
       "SoTang     0.1\n",
       "Name: Gia, dtype: float64"
      ]
     },
     "execution_count": 19,
     "metadata": {},
     "output_type": "execute_result"
    }
   ],
   "source": [
    "df.corr()['Gia'].sort_values(ascending=False)[1:].head(20)"
   ]
  },
  {
   "cell_type": "code",
   "execution_count": 20,
   "metadata": {},
   "outputs": [
    {
     "data": {
      "image/png": "[encoded data removed]",
      "text/plain": [
       "<Figure size 432x288 with 1 Axes>"
      ]
     },
     "metadata": {
      "needs_background": "light"
     },
     "output_type": "display_data"
    }
   ],
   "source": [
    "sns.distplot(df['Gia'], fit=norm);"
   ]
  },
  {
   "cell_type": "code",
   "execution_count": 21,
   "metadata": {},
   "outputs": [],
   "source": [
    "outlier_index = df[df['Gia']>0.6e10].index\n",
    "outlier_arr = list(outlier_index)"
   ]
  },
  {
   "cell_type": "code",
   "execution_count": 22,
   "metadata": {},
   "outputs": [
    {
     "data": {
      "text/plain": [
       "<AxesSubplot:xlabel='DienTich', ylabel='Gia'>"
      ]
     },
     "execution_count": 22,
     "metadata": {},
     "output_type": "execute_result"
    },
    {
     "data": {
      "image/png": "[encoded data removed]",
      "text/plain": [
       "<Figure size 432x288 with 1 Axes>"
      ]
     },
     "metadata": {
      "needs_background": "light"
     },
     "output_type": "display_data"
    }
   ],
   "source": [
    "sns.scatterplot(data=df, x='DienTich', y='Gia')"
   ]
  },
  {
   "cell_type": "code",
   "execution_count": 23,
   "metadata": {},
   "outputs": [
    {
     "data": {
      "text/plain": [
       "Int64Index([996, 1168, 1217, 2245, 3785, 4227], dtype='int64')"
      ]
     },
     "execution_count": 23,
     "metadata": {},
     "output_type": "execute_result"
    }
   ],
   "source": [
    "outlier_index = df[(df['DienTich']<25)].index\n",
    "outlier_arr = outlier_arr + list(outlier_index)\n",
    "outlier_index"
   ]
  },
  {
   "cell_type": "code",
   "execution_count": 24,
   "metadata": {},
   "outputs": [
    {
     "data": {
      "image/png": "[encoded data removed]",
      "text/plain": [
       "<Figure size 432x288 with 1 Axes>"
      ]
     },
     "metadata": {
      "needs_background": "light"
     },
     "output_type": "display_data"
    }
   ],
   "source": [
    "df_temp = df.copy()\n",
    "plt.scatter(df_temp.SoTang*df_temp.DienTich, df_temp.Gia)\n",
    "plt.xlabel('Diện tích * số tầng')\n",
    "plt.ylabel('Giá (tỷ đồng)')\n",
    "plt.show()"
   ]
  },
  {
   "cell_type": "code",
   "execution_count": 25,
   "metadata": {},
   "outputs": [
    {
     "data": {
      "text/plain": [
       "<AxesSubplot:xlabel='PhongTam', ylabel='Gia'>"
      ]
     },
     "execution_count": 25,
     "metadata": {},
     "output_type": "execute_result"
    },
    {
     "data": {
      "image/png": "[encoded data removed]",
      "text/plain": [
       "<Figure size 432x288 with 1 Axes>"
      ]
     },
     "metadata": {
      "needs_background": "light"
     },
     "output_type": "display_data"
    }
   ],
   "source": [
    "sns.scatterplot(data=df, x='PhongTam', y='Gia')"
   ]
  },
  {
   "cell_type": "code",
   "execution_count": 26,
   "metadata": {},
   "outputs": [],
   "source": [
    "outlier_index = df[df['PhongTam']>4].index\n",
    "outlier_arr = outlier_arr + list(outlier_index)\n"
   ]
  },
  {
   "cell_type": "code",
   "execution_count": 27,
   "metadata": {},
   "outputs": [
    {
     "data": {
      "text/plain": [
       "<AxesSubplot:xlabel='Phongngu', ylabel='Gia'>"
      ]
     },
     "execution_count": 27,
     "metadata": {},
     "output_type": "execute_result"
    },
    {
     "data": {
      "image/png": "[encoded data removed]",
      "text/plain": [
       "<Figure size 432x288 with 1 Axes>"
      ]
     },
     "metadata": {
      "needs_background": "light"
     },
     "output_type": "display_data"
    }
   ],
   "source": [
    "sns.scatterplot(data=df, x='Phongngu', y='Gia')"
   ]
  },
  {
   "cell_type": "code",
   "execution_count": 28,
   "metadata": {},
   "outputs": [
    {
     "data": {
      "text/plain": [
       "Int64Index([153, 409, 2384, 4365], dtype='int64')"
      ]
     },
     "execution_count": 28,
     "metadata": {},
     "output_type": "execute_result"
    }
   ],
   "source": [
    "outlier_index = df[df['Phongngu']>4].index\n",
    "outlier_arr = outlier_arr + list(outlier_index)\n",
    "outlier_index"
   ]
  },
  {
   "cell_type": "code",
   "execution_count": 29,
   "metadata": {},
   "outputs": [
    {
     "data": {
      "text/plain": [
       "<AxesSubplot:>"
      ]
     },
     "execution_count": 29,
     "metadata": {},
     "output_type": "execute_result"
    },
    {
     "data": {
      "image/png": "[encoded data removed]",
      "text/plain": [
       "<Figure size 1440x720 with 2 Axes>"
      ]
     },
     "metadata": {
      "needs_background": "light"
     },
     "output_type": "display_data"
    }
   ],
   "source": [
    "plt.figure(figsize=(20,10))\n",
    "sns.heatmap(df.corr(), annot=True)"
   ]
  },
  {
   "cell_type": "code",
   "execution_count": 30,
   "metadata": {},
   "outputs": [],
   "source": [
    "outlier_arr = list(dict.fromkeys(outlier_arr))"
   ]
  },
  {
   "cell_type": "code",
   "execution_count": 31,
   "metadata": {},
   "outputs": [],
   "source": [
    "df.drop(outlier_arr, inplace=True)"
   ]
  },
  {
   "cell_type": "code",
   "execution_count": 32,
   "metadata": {},
   "outputs": [
    {
     "data": {
      "image/png": "[encoded data removed]",
      "text/plain": [
       "<Figure size 432x288 with 1 Axes>"
      ]
     },
     "metadata": {
      "needs_background": "light"
     },
     "output_type": "display_data"
    }
   ],
   "source": [
    "sns.distplot(df['Gia'], fit=norm);"
   ]
  },
  {
   "cell_type": "code",
   "execution_count": 33,
   "metadata": {},
   "outputs": [
    {
     "data": {
      "text/html": [
       "<div>\n",
       "<style scoped>\n",
       "    .dataframe tbody tr th:only-of-type {\n",
       "        vertical-align: middle;\n",
       "    }\n",
       "\n",
       "    .dataframe tbody tr th {\n",
       "        vertical-align: top;\n",
       "    }\n",
       "\n",
       "    .dataframe thead th {\n",
       "        text-align: right;\n",
       "    }\n",
       "</style>\n",
       "<table border=\"1\" class=\"dataframe\">\n",
       "  <thead>\n",
       "    <tr style=\"text-align: right;\">\n",
       "      <th></th>\n",
       "      <th>Missing ratio</th>\n",
       "    </tr>\n",
       "  </thead>\n",
       "  <tbody>\n",
       "  </tbody>\n",
       "</table>\n",
       "</div>"
      ],
      "text/plain": [
       "Empty DataFrame\n",
       "Columns: [Missing ratio]\n",
       "Index: []"
      ]
     },
     "execution_count": 33,
     "metadata": {},
     "output_type": "execute_result"
    }
   ],
   "source": [
    "missing_ratio = df.isna().sum()/len(df)\n",
    "missing_ratio = missing_ratio.drop(missing_ratio[missing_ratio == 0].index).sort_values(ascending=False)\n",
    "missing_df =  pd.DataFrame({'Missing ratio': missing_ratio})\n",
    "missing_df"
   ]
  },
  {
   "cell_type": "code",
   "execution_count": 34,
   "metadata": {},
   "outputs": [],
   "source": [
    "# Tiến hành label encode cho các cột catogorical không ở dạng số thành số \n",
    "obj_col = df.dtypes[df.dtypes == 'object'].index\n",
    "label = LabelEncoder()\n",
    "for col in obj_col:\n",
    "    df[col] = label.fit_transform(df[col])\n",
    "# Kiểm tra lại\n",
    "#df.info()"
   ]
  },
  {
   "cell_type": "code",
   "execution_count": 35,
   "metadata": {},
   "outputs": [
    {
     "data": {
      "text/html": [
       "<div>\n",
       "<style scoped>\n",
       "    .dataframe tbody tr th:only-of-type {\n",
       "        vertical-align: middle;\n",
       "    }\n",
       "\n",
       "    .dataframe tbody tr th {\n",
       "        vertical-align: top;\n",
       "    }\n",
       "\n",
       "    .dataframe thead th {\n",
       "        text-align: right;\n",
       "    }\n",
       "</style>\n",
       "<table border=\"1\" class=\"dataframe\">\n",
       "  <thead>\n",
       "    <tr style=\"text-align: right;\">\n",
       "      <th></th>\n",
       "      <th>TinhTrangBDS</th>\n",
       "      <th>DienTich</th>\n",
       "      <th>Phongngu</th>\n",
       "      <th>SoTang</th>\n",
       "      <th>PhongTam</th>\n",
       "      <th>Loai</th>\n",
       "      <th>GiayTo</th>\n",
       "      <th>TinhTrangNoiThat</th>\n",
       "      <th>HuongCuaChinh</th>\n",
       "      <th>HuongBanCong</th>\n",
       "      <th>Quan</th>\n",
       "    </tr>\n",
       "  </thead>\n",
       "  <tbody>\n",
       "    <tr>\n",
       "      <th>0</th>\n",
       "      <td>1</td>\n",
       "      <td>70.0</td>\n",
       "      <td>1</td>\n",
       "      <td>7.0</td>\n",
       "      <td>1</td>\n",
       "      <td>2</td>\n",
       "      <td>1</td>\n",
       "      <td>2</td>\n",
       "      <td>7</td>\n",
       "      <td>3</td>\n",
       "      <td>21</td>\n",
       "    </tr>\n",
       "    <tr>\n",
       "      <th>1</th>\n",
       "      <td>1</td>\n",
       "      <td>50.0</td>\n",
       "      <td>1</td>\n",
       "      <td>3.0</td>\n",
       "      <td>1</td>\n",
       "      <td>2</td>\n",
       "      <td>2</td>\n",
       "      <td>1</td>\n",
       "      <td>1</td>\n",
       "      <td>0</td>\n",
       "      <td>17</td>\n",
       "    </tr>\n",
       "    <tr>\n",
       "      <th>2</th>\n",
       "      <td>1</td>\n",
       "      <td>83.0</td>\n",
       "      <td>2</td>\n",
       "      <td>5.0</td>\n",
       "      <td>2</td>\n",
       "      <td>2</td>\n",
       "      <td>1</td>\n",
       "      <td>2</td>\n",
       "      <td>4</td>\n",
       "      <td>6</td>\n",
       "      <td>16</td>\n",
       "    </tr>\n",
       "    <tr>\n",
       "      <th>3</th>\n",
       "      <td>1</td>\n",
       "      <td>51.0</td>\n",
       "      <td>2</td>\n",
       "      <td>6.0</td>\n",
       "      <td>1</td>\n",
       "      <td>2</td>\n",
       "      <td>2</td>\n",
       "      <td>1</td>\n",
       "      <td>2</td>\n",
       "      <td>7</td>\n",
       "      <td>7</td>\n",
       "    </tr>\n",
       "    <tr>\n",
       "      <th>4</th>\n",
       "      <td>0</td>\n",
       "      <td>67.6</td>\n",
       "      <td>2</td>\n",
       "      <td>14.0</td>\n",
       "      <td>2</td>\n",
       "      <td>2</td>\n",
       "      <td>1</td>\n",
       "      <td>2</td>\n",
       "      <td>6</td>\n",
       "      <td>4</td>\n",
       "      <td>14</td>\n",
       "    </tr>\n",
       "    <tr>\n",
       "      <th>...</th>\n",
       "      <td>...</td>\n",
       "      <td>...</td>\n",
       "      <td>...</td>\n",
       "      <td>...</td>\n",
       "      <td>...</td>\n",
       "      <td>...</td>\n",
       "      <td>...</td>\n",
       "      <td>...</td>\n",
       "      <td>...</td>\n",
       "      <td>...</td>\n",
       "      <td>...</td>\n",
       "    </tr>\n",
       "    <tr>\n",
       "      <th>4771</th>\n",
       "      <td>0</td>\n",
       "      <td>40.0</td>\n",
       "      <td>1</td>\n",
       "      <td>5.0</td>\n",
       "      <td>1</td>\n",
       "      <td>0</td>\n",
       "      <td>1</td>\n",
       "      <td>3</td>\n",
       "      <td>7</td>\n",
       "      <td>7</td>\n",
       "      <td>17</td>\n",
       "    </tr>\n",
       "    <tr>\n",
       "      <th>4773</th>\n",
       "      <td>0</td>\n",
       "      <td>66.7</td>\n",
       "      <td>2</td>\n",
       "      <td>20.0</td>\n",
       "      <td>2</td>\n",
       "      <td>2</td>\n",
       "      <td>0</td>\n",
       "      <td>2</td>\n",
       "      <td>1</td>\n",
       "      <td>0</td>\n",
       "      <td>13</td>\n",
       "    </tr>\n",
       "    <tr>\n",
       "      <th>4774</th>\n",
       "      <td>1</td>\n",
       "      <td>48.0</td>\n",
       "      <td>1</td>\n",
       "      <td>19.0</td>\n",
       "      <td>1</td>\n",
       "      <td>2</td>\n",
       "      <td>1</td>\n",
       "      <td>2</td>\n",
       "      <td>4</td>\n",
       "      <td>3</td>\n",
       "      <td>5</td>\n",
       "    </tr>\n",
       "    <tr>\n",
       "      <th>4775</th>\n",
       "      <td>1</td>\n",
       "      <td>53.0</td>\n",
       "      <td>2</td>\n",
       "      <td>19.0</td>\n",
       "      <td>1</td>\n",
       "      <td>2</td>\n",
       "      <td>1</td>\n",
       "      <td>1</td>\n",
       "      <td>7</td>\n",
       "      <td>4</td>\n",
       "      <td>15</td>\n",
       "    </tr>\n",
       "    <tr>\n",
       "      <th>4776</th>\n",
       "      <td>0</td>\n",
       "      <td>60.0</td>\n",
       "      <td>2</td>\n",
       "      <td>18.0</td>\n",
       "      <td>1</td>\n",
       "      <td>2</td>\n",
       "      <td>1</td>\n",
       "      <td>2</td>\n",
       "      <td>7</td>\n",
       "      <td>7</td>\n",
       "      <td>12</td>\n",
       "    </tr>\n",
       "  </tbody>\n",
       "</table>\n",
       "<p>3345 rows × 11 columns</p>\n",
       "</div>"
      ],
      "text/plain": [
       "      TinhTrangBDS  DienTich  Phongngu  SoTang  PhongTam  Loai  GiayTo  \\\n",
       "0                1      70.0         1     7.0         1     2       1   \n",
       "1                1      50.0         1     3.0         1     2       2   \n",
       "2                1      83.0         2     5.0         2     2       1   \n",
       "3                1      51.0         2     6.0         1     2       2   \n",
       "4                0      67.6         2    14.0         2     2       1   \n",
       "...            ...       ...       ...     ...       ...   ...     ...   \n",
       "4771             0      40.0         1     5.0         1     0       1   \n",
       "4773             0      66.7         2    20.0         2     2       0   \n",
       "4774             1      48.0         1    19.0         1     2       1   \n",
       "4775             1      53.0         2    19.0         1     2       1   \n",
       "4776             0      60.0         2    18.0         1     2       1   \n",
       "\n",
       "      TinhTrangNoiThat  HuongCuaChinh  HuongBanCong  Quan  \n",
       "0                    2              7             3    21  \n",
       "1                    1              1             0    17  \n",
       "2                    2              4             6    16  \n",
       "3                    1              2             7     7  \n",
       "4                    2              6             4    14  \n",
       "...                ...            ...           ...   ...  \n",
       "4771                 3              7             7    17  \n",
       "4773                 2              1             0    13  \n",
       "4774                 2              4             3     5  \n",
       "4775                 1              7             4    15  \n",
       "4776                 2              7             7    12  \n",
       "\n",
       "[3345 rows x 11 columns]"
      ]
     },
     "execution_count": 35,
     "metadata": {},
     "output_type": "execute_result"
    }
   ],
   "source": [
    "X= df[['TinhTrangBDS','DienTich','Phongngu','SoTang','PhongTam','Loai','GiayTo','TinhTrangNoiThat','HuongCuaChinh','HuongBanCong','Quan']]\n",
    "X"
   ]
  },
  {
   "cell_type": "code",
   "execution_count": 36,
   "metadata": {},
   "outputs": [
    {
     "data": {
      "text/html": [
       "<div>\n",
       "<style scoped>\n",
       "    .dataframe tbody tr th:only-of-type {\n",
       "        vertical-align: middle;\n",
       "    }\n",
       "\n",
       "    .dataframe tbody tr th {\n",
       "        vertical-align: top;\n",
       "    }\n",
       "\n",
       "    .dataframe thead th {\n",
       "        text-align: right;\n",
       "    }\n",
       "</style>\n",
       "<table border=\"1\" class=\"dataframe\">\n",
       "  <thead>\n",
       "    <tr style=\"text-align: right;\">\n",
       "      <th></th>\n",
       "      <th>Gia</th>\n",
       "    </tr>\n",
       "  </thead>\n",
       "  <tbody>\n",
       "    <tr>\n",
       "      <th>0</th>\n",
       "      <td>4000000000.0</td>\n",
       "    </tr>\n",
       "    <tr>\n",
       "      <th>1</th>\n",
       "      <td>1390000000.0</td>\n",
       "    </tr>\n",
       "    <tr>\n",
       "      <th>2</th>\n",
       "      <td>4500000000.0</td>\n",
       "    </tr>\n",
       "    <tr>\n",
       "      <th>3</th>\n",
       "      <td>1700000000.0</td>\n",
       "    </tr>\n",
       "    <tr>\n",
       "      <th>4</th>\n",
       "      <td>2336000000.0</td>\n",
       "    </tr>\n",
       "    <tr>\n",
       "      <th>...</th>\n",
       "      <td>...</td>\n",
       "    </tr>\n",
       "    <tr>\n",
       "      <th>4771</th>\n",
       "      <td>1050000000.0</td>\n",
       "    </tr>\n",
       "    <tr>\n",
       "      <th>4773</th>\n",
       "      <td>2023939000.0</td>\n",
       "    </tr>\n",
       "    <tr>\n",
       "      <th>4774</th>\n",
       "      <td>3799000000.0</td>\n",
       "    </tr>\n",
       "    <tr>\n",
       "      <th>4775</th>\n",
       "      <td>2100000000.0</td>\n",
       "    </tr>\n",
       "    <tr>\n",
       "      <th>4776</th>\n",
       "      <td>1900000000.0</td>\n",
       "    </tr>\n",
       "  </tbody>\n",
       "</table>\n",
       "<p>3345 rows × 1 columns</p>\n",
       "</div>"
      ],
      "text/plain": [
       "              Gia\n",
       "0    4000000000.0\n",
       "1    1390000000.0\n",
       "2    4500000000.0\n",
       "3    1700000000.0\n",
       "4    2336000000.0\n",
       "...           ...\n",
       "4771 1050000000.0\n",
       "4773 2023939000.0\n",
       "4774 3799000000.0\n",
       "4775 2100000000.0\n",
       "4776 1900000000.0\n",
       "\n",
       "[3345 rows x 1 columns]"
      ]
     },
     "execution_count": 36,
     "metadata": {},
     "output_type": "execute_result"
    }
   ],
   "source": [
    "y=df[['Gia']]\n",
    "y"
   ]
  },
  {
   "cell_type": "markdown",
   "metadata": {},
   "source": [
    "### Chia tập dữ liệu"
   ]
  },
  {
   "cell_type": "code",
   "execution_count": 37,
   "metadata": {},
   "outputs": [],
   "source": [
    "X_train, X_test, y_train, y_test = train_test_split(X, y, test_size=0.3, random_state=42)"
   ]
  },
  {
   "cell_type": "code",
   "execution_count": 38,
   "metadata": {},
   "outputs": [],
   "source": [
    "from sklearn.preprocessing import OneHotEncoder\n",
    "\n",
    "# Create the encoder.\n",
    "encoder = OneHotEncoder(handle_unknown=\"ignore\")\n",
    "\n",
    "# Apply the encoder.\n",
    "X_train = encoder.fit_transform(X_train)\n",
    "X_test = encoder.transform(X_test)"
   ]
  },
  {
   "cell_type": "markdown",
   "metadata": {},
   "source": [
    "## Mô hình "
   ]
  },
  {
   "cell_type": "code",
   "execution_count": 39,
   "metadata": {},
   "outputs": [],
   "source": [
    "from sklearn.linear_model import RidgeCV\n",
    "from sklearn.model_selection import KFold\n",
    "from sklearn.linear_model import Ridge\n",
    "\n",
    "from sklearn.linear_model import LassoCV\n",
    "from sklearn.linear_model import Lasso\n",
    "from sklearn.linear_model import LinearRegression"
   ]
  },
  {
   "cell_type": "markdown",
   "metadata": {},
   "source": [
    "## Linear Regression"
   ]
  },
  {
   "cell_type": "code",
   "execution_count": 40,
   "metadata": {},
   "outputs": [],
   "source": [
    "model = LinearRegression()"
   ]
  },
  {
   "cell_type": "code",
   "execution_count": 41,
   "metadata": {},
   "outputs": [
    {
     "data": {
      "text/plain": [
       "LinearRegression()"
      ]
     },
     "execution_count": 41,
     "metadata": {},
     "output_type": "execute_result"
    }
   ],
   "source": [
    "model.fit(X_train, y_train)"
   ]
  },
  {
   "cell_type": "code",
   "execution_count": 42,
   "metadata": {},
   "outputs": [],
   "source": [
    "y_prediction =  model.predict(X_test)\n",
    "#y_prediction"
   ]
  },
  {
   "cell_type": "code",
   "execution_count": 43,
   "metadata": {},
   "outputs": [
    {
     "data": {
      "text/plain": [
       "0.5719803081348331"
      ]
     },
     "execution_count": 43,
     "metadata": {},
     "output_type": "execute_result"
    }
   ],
   "source": [
    "scores = model.score(X_test,y_test)\n",
    "scores"
   ]
  },
  {
   "cell_type": "markdown",
   "metadata": {},
   "source": [
    "# Ridge Regression"
   ]
  },
  {
   "cell_type": "code",
   "execution_count": 45,
   "metadata": {},
   "outputs": [
    {
     "data": {
      "image/png": "[encoded data removed]",
      "text/plain": [
       "<Figure size 1224x504 with 1 Axes>"
      ]
     },
     "metadata": {
      "needs_background": "light"
     },
     "output_type": "display_data"
    }
   ],
   "source": [
    "# Các giá trị alpha đại diên cần kiểm tra\n",
    "alps = [1e-8, 1e-4, 1e-2, 1.0, 10.0, 20.0, 50.0, 100.0]\n",
    "scores =  np.array([])\n",
    "for alp in alps:\n",
    "    tmpRidge = RidgeCV(alphas=(alp, alp))\n",
    "    tmpRidge.fit(X_train, y_train)\n",
    "    scores= np.append(scores, [tmpRidge.best_score_])\n",
    "\n",
    "scores = scores.transpose()\n",
    "\n",
    "fig, ax = plt.subplots(1, 1, figsize=(17,7))\n",
    "ax.plot(alps, scores, ls='-', marker='o')\n",
    "ax.set_xscale('log')\n",
    "ax.set_xlabel('$alpha$')\n",
    "ax.set_ylabel('best scores');"
   ]
  },
  {
   "cell_type": "code",
   "execution_count": 46,
   "metadata": {},
   "outputs": [
    {
     "name": "stdout",
     "output_type": "stream",
     "text": [
      "Best model searched:\n",
      "best score = -6.296345896284216e+17\n",
      "alpha = 1.0\n",
      "intercept = [2.71566446e+09], \n"
     ]
    }
   ],
   "source": [
    "\n",
    "ridgeCV_object = RidgeCV(alphas=(1e-8, 1e-4, 1e-2, 1.0, 10.0, 20.0, 50.0, 100.0))\n",
    "ridgeCV_object.fit(X_train, y_train)\n",
    "\n",
    "print(\"Best model searched:\\nbest score = {}\\nalpha = {}\\nintercept = {}, \".format(ridgeCV_object.best_score_,\n",
    "                                                                                                ridgeCV_object.alpha_,\n",
    "                                                                                                 ridgeCV_object.intercept_,\n",
    "                                                                                                 ))      \n",
    "best_alpha = ridgeCV_object.alpha_"
   ]
  },
  {
   "cell_type": "code",
   "execution_count": 47,
   "metadata": {},
   "outputs": [
    {
     "data": {
      "text/plain": [
       "0.576349136208834"
      ]
     },
     "execution_count": 47,
     "metadata": {},
     "output_type": "execute_result"
    }
   ],
   "source": [
    "est = Ridge(alpha=best_alpha).fit(X_train,y_train)\n",
    "ypredict_ridge_best = est.predict(X_test)\n",
    "scores = est.score(X_test,y_test)\n",
    "scores "
   ]
  },
  {
   "cell_type": "markdown",
   "metadata": {},
   "source": [
    "### Lasso Regression\n"
   ]
  },
  {
   "cell_type": "code",
   "execution_count": 48,
   "metadata": {},
   "outputs": [
    {
     "data": {
      "image/png": "[encoded data removed]",
      "text/plain": [
       "<Figure size 1224x504 with 1 Axes>"
      ]
     },
     "metadata": {
      "needs_background": "light"
     },
     "output_type": "display_data"
    }
   ],
   "source": [
    "\n",
    "alps = [1e-8, 1e-4, 1e-2, 1.0, 10.0, 20.0, 50.0, 100.0]\n",
    "scores =  np.array([])\n",
    "for alp in alps:\n",
    "    tmpLasso = LassoCV(alphas=(alp, alp))\n",
    "    tmpLasso.fit(X_train, y_train)\n",
    "    scores= np.append(scores, [tmpLasso.dual_gap_])\n",
    "\n",
    "scores = scores.transpose()\n",
    "\n",
    "fig, ax = plt.subplots(1, 1, figsize=(17,7))\n",
    "ax.plot(alps, scores, ls='-', marker='o')\n",
    "ax.set_xscale('log')\n",
    "ax.set_xlabel('$alpha$')\n",
    "ax.set_ylabel('dual_gap_');"
   ]
  },
  {
   "cell_type": "code",
   "execution_count": null,
   "metadata": {},
   "outputs": [],
   "source": [
    "lassoCV_object = LassoCV(alphas=(1e-8, 1e-4, 1e-2, 1.0, 10.0, 20.0, 50.0, 100.0))\n",
    "lassoCV_object.fit(X_train, y_train)\n",
    "\n",
    "print(\"Best model searched:\\ndual_gap_ = {}\\nalpha = {}\\nintercept = {}, \".format(lassoCV_object.dual_gap_,\n",
    "                                                                                                lassoCV_object.alpha_,\n",
    "                                                                                                 lassoCV_object.intercept_\n",
    "                                                                                                 ))      \n"
   ]
  },
  {
   "cell_type": "code",
   "execution_count": null,
   "metadata": {},
   "outputs": [],
   "source": [
    "est = Lasso(alpha=lassoCV_object.alpha_).fit(X_train,y_train)\n",
    "ypredict_lasso_best = est.predict(X_test)\n",
    "scores = est.score(X_test,y_test)\n",
    "scores"
   ]
  }
 ],
 "metadata": {
  "kernelspec": {
   "display_name": "Python 3",
   "language": "python",
   "name": "python3"
  },
  "language_info": {
   "codemirror_mode": {
    "name": "ipython",
    "version": 3
   },
   "file_extension": ".py",
   "mimetype": "text/x-python",
   "name": "python",
   "nbconvert_exporter": "python",
   "pygments_lexer": "ipython3",
   "version": "3.8.5"
  }
 },
 "nbformat": 4,
 "nbformat_minor": 4
}
